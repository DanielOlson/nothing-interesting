{
 "cells": [
  {
   "cell_type": "code",
   "execution_count": 1,
   "id": "f21ccd11",
   "metadata": {},
   "outputs": [],
   "source": [
    "import torch\n",
    "import torch.nn as nn\n",
    "import torch.nn.functional as F"
   ]
  },
  {
   "cell_type": "code",
   "execution_count": 4,
   "id": "30de23ba",
   "metadata": {},
   "outputs": [
    {
     "name": "stdout",
     "output_type": "stream",
     "text": [
      "torch.Size([1, 64, 256])\n"
     ]
    }
   ],
   "source": [
    "class MoveNet(nn.Module):\n",
    "    def __init__(self):\n",
    "        super(MoveNet, self).__init__()\n",
    "    \n",
    "    def forward(self, board, moves):\n",
    "        \n",
    "        return board\n",
    "    \n",
    "    \n",
    "board = torch.rand(10, 64, 256)\n",
    "moves = torch.randint(0, 65, (10, 60, 3))\n",
    "\n",
    "mod = MoveNet()\n",
    "\n",
    "out = mod(board, moves)\n",
    "print(out.shape)"
   ]
  },
  {
   "cell_type": "code",
   "execution_count": null,
   "id": "6ac2167e",
   "metadata": {},
   "outputs": [],
   "source": []
  }
 ],
 "metadata": {
  "kernelspec": {
   "display_name": "Python 3 (ipykernel)",
   "language": "python",
   "name": "python3"
  },
  "language_info": {
   "codemirror_mode": {
    "name": "ipython",
    "version": 3
   },
   "file_extension": ".py",
   "mimetype": "text/x-python",
   "name": "python",
   "nbconvert_exporter": "python",
   "pygments_lexer": "ipython3",
   "version": "3.8.2"
  }
 },
 "nbformat": 4,
 "nbformat_minor": 5
}
